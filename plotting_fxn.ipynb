{
 "cells": [
  {
   "cell_type": "code",
   "execution_count": null,
   "metadata": {},
   "outputs": [],
   "source": [
    "def within_thresh(value, businesstype, column, data, sd_away=1):\n",
    "    '''returns the lower and upper thresholds and whether the input\n",
    "       falls within this threshold\n",
    "    '''\n",
    "    mean_df = data.groupby('BusinessType').mean()\n",
    "    sd_df = data.groupby('BusinessType').std()\n",
    "    \n",
    "    mean = mean_df.loc[businesstype, column]\n",
    "    sd = sd_df.loc[businesstype, column]\n",
    "    \n",
    "    upper_thresh = mean + sd_away*sd \n",
    "    lower_thresh = mean - sd_away*sd\n",
    "    \n",
    "    if value > upper_thresh or value < lower_thresh: \n",
    "        return lower_thresh, upper_thresh, False\n",
    "    else: \n",
    "        return lower_thresh, upper_thresh, True\n"
   ]
  },
  {
   "cell_type": "code",
   "execution_count": 2,
   "metadata": {},
   "outputs": [],
   "source": [
    "def plot_dist(data, type_value, column, upper_thresh=None, lower_thresh=None, xrange=None):\n",
    "    '''Plots distribution of the average value given a column and a business type'''\n",
    "    hist_data = data.query('BusinessType == @type_value').loc[:, column]\n",
    "    \n",
    "    fig = px.histogram(hist_data, x = \"NumberofEmployees\")\n",
    "    fig.update_xaxes(range=xrange)\n",
    "    fig.update_layout(shapes=[\n",
    "        dict(\n",
    "          type= 'line',\n",
    "          yref= 'paper', y0= 0, y1= 1,\n",
    "          xref= 'x', x0= lower_thresh, x1= lower_thresh\n",
    "        ),\n",
    "        dict(\n",
    "          type= 'line',\n",
    "          yref= 'paper', y0= 0, y1= 1,\n",
    "          xref= 'x', x0= upper_thresh, x1=upper_thresh\n",
    "        )\n",
    "    ])\n",
    "    fig.show()"
   ]
  },
  {
   "cell_type": "code",
   "execution_count": null,
   "metadata": {},
   "outputs": [],
   "source": []
  }
 ],
 "metadata": {
  "kernelspec": {
   "display_name": "Python [conda env:531]",
   "language": "python",
   "name": "conda-env-531-py"
  },
  "language_info": {
   "codemirror_mode": {
    "name": "ipython",
    "version": 3
   },
   "file_extension": ".py",
   "mimetype": "text/x-python",
   "name": "python",
   "nbconvert_exporter": "python",
   "pygments_lexer": "ipython3",
   "version": "3.8.6"
  }
 },
 "nbformat": 4,
 "nbformat_minor": 4
}
